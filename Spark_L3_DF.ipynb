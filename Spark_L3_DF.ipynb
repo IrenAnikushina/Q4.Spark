{
  "nbformat": 4,
  "nbformat_minor": 0,
  "metadata": {
    "colab": {
      "name": "Spark_L3_DF",
      "provenance": [],
      "collapsed_sections": []
    },
    "kernelspec": {
      "name": "python3",
      "display_name": "Python 3"
    },
    "language_info": {
      "name": "python"
    }
  },
  "cells": [
    {
      "cell_type": "markdown",
      "metadata": {
        "id": "8Zc4sdy0s35D"
      },
      "source": [
        "# Создаём точку входа в Spark"
      ]
    },
    {
      "cell_type": "code",
      "source": [
        "from google.colab import drive\n",
        "drive.mount('/content/drive')"
      ],
      "metadata": {
        "colab": {
          "base_uri": "https://localhost:8080/"
        },
        "id": "B5vSJVmBLIOQ",
        "outputId": "08392885-9de6-4a9d-d1e3-4267c449f87b"
      },
      "execution_count": 54,
      "outputs": [
        {
          "output_type": "stream",
          "name": "stdout",
          "text": [
            "Drive already mounted at /content/drive; to attempt to forcibly remount, call drive.mount(\"/content/drive\", force_remount=True).\n"
          ]
        }
      ]
    },
    {
      "cell_type": "code",
      "source": [
        "!pip install pyspark"
      ],
      "metadata": {
        "id": "562-j1nfHU3_",
        "outputId": "7a6f68ee-c3e9-4cc0-bf83-a4465467dec5",
        "colab": {
          "base_uri": "https://localhost:8080/"
        }
      },
      "execution_count": 55,
      "outputs": [
        {
          "output_type": "stream",
          "name": "stdout",
          "text": [
            "Requirement already satisfied: pyspark in /usr/local/lib/python3.7/dist-packages (3.2.0)\n",
            "Requirement already satisfied: py4j==0.10.9.2 in /usr/local/lib/python3.7/dist-packages (from pyspark) (0.10.9.2)\n"
          ]
        }
      ]
    },
    {
      "cell_type": "code",
      "metadata": {
        "id": "idrMQH4dj605"
      },
      "source": [
        "from pyspark.sql import SparkSession\n",
        "\n",
        "spark = SparkSession.builder\\\n",
        "        .master('local[4]')\\\n",
        "        .appName('Lesson_2')\\\n",
        "        .config('spark.ui.port', '4050')\\\n",
        "        .config('spark.executor.instances', 2)\\\n",
        "        .config('spark.executor.memory', '5g')\\\n",
        "        .config('spark.executor.cores', 2)\\\n",
        "        .getOrCreate()\n",
        "\n",
        "sc = spark.sparkContext"
      ],
      "execution_count": 56,
      "outputs": []
    },
    {
      "cell_type": "code",
      "metadata": {
        "colab": {
          "base_uri": "https://localhost:8080/",
          "height": 222
        },
        "id": "ZfhfV3EWHzqB",
        "outputId": "ffe2e35b-a45e-41a8-d883-4fef7fca6448"
      },
      "source": [
        "spark"
      ],
      "execution_count": 57,
      "outputs": [
        {
          "output_type": "execute_result",
          "data": {
            "text/html": [
              "\n",
              "            <div>\n",
              "                <p><b>SparkSession - in-memory</b></p>\n",
              "                \n",
              "        <div>\n",
              "            <p><b>SparkContext</b></p>\n",
              "\n",
              "            <p><a href=\"http://49dec2feba1d:4050\">Spark UI</a></p>\n",
              "\n",
              "            <dl>\n",
              "              <dt>Version</dt>\n",
              "                <dd><code>v3.2.0</code></dd>\n",
              "              <dt>Master</dt>\n",
              "                <dd><code>local[4]</code></dd>\n",
              "              <dt>AppName</dt>\n",
              "                <dd><code>Lesson_2</code></dd>\n",
              "            </dl>\n",
              "        </div>\n",
              "        \n",
              "            </div>\n",
              "        "
            ],
            "text/plain": [
              "<pyspark.sql.session.SparkSession at 0x7f2bc64cc8d0>"
            ]
          },
          "metadata": {},
          "execution_count": 57
        }
      ]
    },
    {
      "cell_type": "markdown",
      "metadata": {
        "id": "uySWyv8CXIMF"
      },
      "source": [
        "# DataFrame\n",
        "Теперь мы знаем про Dataframe. Нужно сделать практически всё то же самое, но используя датафрейм."
      ]
    },
    {
      "cell_type": "markdown",
      "metadata": {
        "id": "VrBE3PdXtOwT"
      },
      "source": [
        "# Самостоятельная работа\n",
        "\n",
        "Требуется выяснить:\n",
        "1. Какое соотношение сторон экрана телефона самое популярное,\n",
        "2. Плотность пикселей у экрана.\n",
        "\n",
        "Всего 8 баллов. \n"
      ]
    },
    {
      "cell_type": "markdown",
      "metadata": {
        "id": "FjAfrNtXSKBz"
      },
      "source": [
        "## Считывание данных\n",
        "Данные взяты отсюда: https://www.kaggle.com/iabhishekofficial/mobile-price-classification\n",
        "Скачиваем и копируем в папку с нотебуком\n",
        "\n",
        "Внутри содержится следующая информация:\n",
        "\n",
        "* id: ID\n",
        "* battery_power: Total energy a battery can store in one time (mAh)\n",
        "* blue: Support bluetooth or not\n",
        "* clock_speed: Speed at which microprocessor executes instructions\n",
        "* dual_sim: Support dual sim or not\n",
        "* fc: Front Camera mega pixels\n",
        "* four_g: Support 4G or not\n",
        "* int_memory: Internal Memory (GB)\n",
        "* m_dep: Mobile Depth (cm)\n",
        "* mobile_wt: Weight of mobile phone\n",
        "* n_cores: Number of cores of processor\n",
        "* pc: Primary Camera mega pixels\n",
        "* px_height: Pixel Resolution Height\n",
        "* px_width: Pixel Resolution Width\n",
        "* ram: Random Access Memory (MB)\n",
        "* sc_h: Screen Height of mobile (cm)\n",
        "* sc_w: Screen Width of mobile (cm)\n",
        "* talk_time: Time that a single battery charge will last\n",
        "* three_g: Support 3G or not\n",
        "* touch_screen: Has touch screen or not\n",
        "* wifi: Support wifi or not"
      ]
    },
    {
      "cell_type": "markdown",
      "metadata": {
        "id": "EQUTJAcqXlm-"
      },
      "source": [
        "# Считывание данных"
      ]
    },
    {
      "cell_type": "code",
      "metadata": {
        "id": "E9Vb0d0hutEb",
        "colab": {
          "base_uri": "https://localhost:8080/"
        },
        "outputId": "446238b3-5f91-4440-a51b-a7f707ebd512"
      },
      "source": [
        "# Прочитайте содержимое каждого файла в датафрейм и выведите первые несколько строк (1 балл)\n",
        "# Применив cast к колонке можно изменить тип данных (F.col().cast(IntegerType()).alias())\n",
        "# Приведите все данные к правильному типу, либо считайе сразу верно (1 балл)\n",
        "###############\n",
        "# Ваш код здесь\n",
        "data_test = spark.read.option('header','True').option('inferSchema', 'true').csv('/content/drive/MyDrive/Colab Notebooks/Spark/test.csv',sep=',')\n",
        "data_test.show(5)"
      ],
      "execution_count": 58,
      "outputs": [
        {
          "output_type": "stream",
          "name": "stdout",
          "text": [
            "+---+-------------+----+-----------+--------+---+------+----------+-----+---------+-------+---+---------+--------+----+----+----+---------+-------+------------+----+\n",
            "| id|battery_power|blue|clock_speed|dual_sim| fc|four_g|int_memory|m_dep|mobile_wt|n_cores| pc|px_height|px_width| ram|sc_h|sc_w|talk_time|three_g|touch_screen|wifi|\n",
            "+---+-------------+----+-----------+--------+---+------+----------+-----+---------+-------+---+---------+--------+----+----+----+---------+-------+------------+----+\n",
            "|  1|         1043|   1|        1.8|       1| 14|     0|         5|  0.1|      193|      3| 16|      226|    1412|3476|  12|   7|        2|      0|           1|   0|\n",
            "|  2|          841|   1|        0.5|       1|  4|     1|        61|  0.8|      191|      5| 12|      746|     857|3895|   6|   0|        7|      1|           0|   0|\n",
            "|  3|         1807|   1|        2.8|       0|  1|     0|        27|  0.9|      186|      3|  4|     1270|    1366|2396|  17|  10|       10|      0|           1|   1|\n",
            "|  4|         1546|   0|        0.5|       1| 18|     1|        25|  0.5|       96|      8| 20|      295|    1752|3893|  10|   0|        7|      1|           1|   0|\n",
            "|  5|         1434|   0|        1.4|       0| 11|     1|        49|  0.5|      108|      6| 18|      749|     810|1773|  15|   8|        7|      1|           0|   1|\n",
            "+---+-------------+----+-----------+--------+---+------+----------+-----+---------+-------+---+---------+--------+----+----+----+---------+-------+------------+----+\n",
            "only showing top 5 rows\n",
            "\n"
          ]
        }
      ]
    },
    {
      "cell_type": "code",
      "source": [
        "#итак мы видим, что все данные испортированы с корректным типом данных\n",
        "data_test.printSchema"
      ],
      "metadata": {
        "colab": {
          "base_uri": "https://localhost:8080/"
        },
        "id": "3hY43uVoS4Dw",
        "outputId": "9d6799a6-fbb9-4c47-f365-6d019e4aa613"
      },
      "execution_count": 59,
      "outputs": [
        {
          "output_type": "execute_result",
          "data": {
            "text/plain": [
              "<bound method DataFrame.printSchema of DataFrame[id: int, battery_power: int, blue: int, clock_speed: double, dual_sim: int, fc: int, four_g: int, int_memory: int, m_dep: double, mobile_wt: int, n_cores: int, pc: int, px_height: int, px_width: int, ram: int, sc_h: int, sc_w: int, talk_time: int, three_g: int, touch_screen: int, wifi: int]>"
            ]
          },
          "metadata": {},
          "execution_count": 59
        }
      ]
    },
    {
      "cell_type": "code",
      "source": [
        "#аналогично импортируем датасет трэйн\n",
        "data_train = spark.read.option('header','True').option('inferSchema', 'true').csv('/content/drive/MyDrive/Colab Notebooks/Spark/train.csv',sep=',')\n",
        "data_train.show(5)"
      ],
      "metadata": {
        "colab": {
          "base_uri": "https://localhost:8080/"
        },
        "id": "9LlMUnWoYrdu",
        "outputId": "245952e3-ff5b-4049-d0e0-4560a2aa8a6d"
      },
      "execution_count": 60,
      "outputs": [
        {
          "output_type": "stream",
          "name": "stdout",
          "text": [
            "+-------------+----+-----------+--------+---+------+----------+-----+---------+-------+---+---------+--------+----+----+----+---------+-------+------------+----+-----------+\n",
            "|battery_power|blue|clock_speed|dual_sim| fc|four_g|int_memory|m_dep|mobile_wt|n_cores| pc|px_height|px_width| ram|sc_h|sc_w|talk_time|three_g|touch_screen|wifi|price_range|\n",
            "+-------------+----+-----------+--------+---+------+----------+-----+---------+-------+---+---------+--------+----+----+----+---------+-------+------------+----+-----------+\n",
            "|          842|   0|        2.2|       0|  1|     0|         7|  0.6|      188|      2|  2|       20|     756|2549|   9|   7|       19|      0|           0|   1|          1|\n",
            "|         1021|   1|        0.5|       1|  0|     1|        53|  0.7|      136|      3|  6|      905|    1988|2631|  17|   3|        7|      1|           1|   0|          2|\n",
            "|          563|   1|        0.5|       1|  2|     1|        41|  0.9|      145|      5|  6|     1263|    1716|2603|  11|   2|        9|      1|           1|   0|          2|\n",
            "|          615|   1|        2.5|       0|  0|     0|        10|  0.8|      131|      6|  9|     1216|    1786|2769|  16|   8|       11|      1|           0|   0|          2|\n",
            "|         1821|   1|        1.2|       0| 13|     1|        44|  0.6|      141|      2| 14|     1208|    1212|1411|   8|   2|       15|      1|           1|   0|          1|\n",
            "+-------------+----+-----------+--------+---+------+----------+-----+---------+-------+---+---------+--------+----+----+----+---------+-------+------------+----+-----------+\n",
            "only showing top 5 rows\n",
            "\n"
          ]
        }
      ]
    },
    {
      "cell_type": "code",
      "source": [
        "data_train.printSchema"
      ],
      "metadata": {
        "colab": {
          "base_uri": "https://localhost:8080/"
        },
        "id": "8iRpoz0WZnyS",
        "outputId": "fe1b227c-a7cf-4c5d-c652-cf016ccd55bd"
      },
      "execution_count": 61,
      "outputs": [
        {
          "output_type": "execute_result",
          "data": {
            "text/plain": [
              "<bound method DataFrame.printSchema of DataFrame[battery_power: int, blue: int, clock_speed: double, dual_sim: int, fc: int, four_g: int, int_memory: int, m_dep: double, mobile_wt: int, n_cores: int, pc: int, px_height: int, px_width: int, ram: int, sc_h: int, sc_w: int, talk_time: int, three_g: int, touch_screen: int, wifi: int, price_range: int]>"
            ]
          },
          "metadata": {},
          "execution_count": 61
        }
      ]
    },
    {
      "cell_type": "markdown",
      "metadata": {
        "id": "kjCdeAS4v1Vc"
      },
      "source": [
        "## Объединим train и test\n",
        "Найти нужную функцию можно [здесь](https://spark.apache.org/docs/2.4.0/api/python/pyspark.sql.html)\n",
        "\n",
        "PS: нужно сделать средствами pyspark pd.concat([train, test,], axis=0)"
      ]
    },
    {
      "cell_type": "code",
      "metadata": {
        "id": "5-Oeq54KxhXa",
        "colab": {
          "base_uri": "https://localhost:8080/"
        },
        "outputId": "83a782c4-1dbe-49ea-ce29-c612b7115109"
      },
      "source": [
        "# Объедините train и test (1 балла)\n",
        "###############\n",
        "# Ваш код здесь\n",
        "\n",
        "# чтоб объединить две таблицы, нужно обоспечить одинковое количество колонок.\n",
        "# на прошлом уроке \n",
        "from pyspark.sql.functions import lit\n",
        "from pyspark.sql.types import StringType, IntegerType\n",
        "\n",
        "data = data_test.withColumn('price_range', lit(None).cast(StringType())).unionByName(data_train.withColumn('id',lit(None).cast(StringType())))\n",
        "data.show()"
      ],
      "execution_count": 46,
      "outputs": [
        {
          "output_type": "stream",
          "name": "stdout",
          "text": [
            "+---+-------------+----+-----------+--------+---+------+----------+-----+---------+-------+---+---------+--------+----+----+----+---------+-------+------------+----+-----------+\n",
            "| id|battery_power|blue|clock_speed|dual_sim| fc|four_g|int_memory|m_dep|mobile_wt|n_cores| pc|px_height|px_width| ram|sc_h|sc_w|talk_time|three_g|touch_screen|wifi|price_range|\n",
            "+---+-------------+----+-----------+--------+---+------+----------+-----+---------+-------+---+---------+--------+----+----+----+---------+-------+------------+----+-----------+\n",
            "|  1|         1043|   1|        1.8|       1| 14|     0|         5|  0.1|      193|      3| 16|      226|    1412|3476|  12|   7|        2|      0|           1|   0|       null|\n",
            "|  2|          841|   1|        0.5|       1|  4|     1|        61|  0.8|      191|      5| 12|      746|     857|3895|   6|   0|        7|      1|           0|   0|       null|\n",
            "|  3|         1807|   1|        2.8|       0|  1|     0|        27|  0.9|      186|      3|  4|     1270|    1366|2396|  17|  10|       10|      0|           1|   1|       null|\n",
            "|  4|         1546|   0|        0.5|       1| 18|     1|        25|  0.5|       96|      8| 20|      295|    1752|3893|  10|   0|        7|      1|           1|   0|       null|\n",
            "|  5|         1434|   0|        1.4|       0| 11|     1|        49|  0.5|      108|      6| 18|      749|     810|1773|  15|   8|        7|      1|           0|   1|       null|\n",
            "|  6|         1464|   1|        2.9|       1|  5|     1|        50|  0.8|      198|      8|  9|      569|     939|3506|  10|   7|        3|      1|           1|   1|       null|\n",
            "|  7|         1718|   0|        2.4|       0|  1|     0|        47|  1.0|      156|      2|  3|     1283|    1374|3873|  14|   2|       10|      0|           0|   0|       null|\n",
            "|  8|          833|   0|        2.4|       1|  0|     0|        62|  0.8|      111|      1|  2|     1312|    1880|1495|   7|   2|       18|      0|           1|   1|       null|\n",
            "|  9|         1111|   1|        2.9|       1|  9|     1|        25|  0.6|      101|      5| 19|      556|     876|3485|  11|   9|       10|      1|           1|   0|       null|\n",
            "| 10|         1520|   0|        0.5|       0|  1|     0|        25|  0.5|      171|      3| 20|       52|    1009| 651|   6|   0|        5|      1|           0|   1|       null|\n",
            "| 11|         1500|   0|        2.2|       0|  2|     0|        55|  0.6|       80|      7|  6|      503|    1336|3866|  13|   7|       20|      0|           1|   0|       null|\n",
            "| 12|         1343|   0|        2.9|       0|  2|     1|        34|  0.8|      171|      3|  6|      235|    1671|3911|  15|   8|        8|      1|           1|   1|       null|\n",
            "| 13|          900|   1|        1.4|       1|  0|     0|        30|  1.0|       87|      2|  3|      829|    1893| 439|   6|   2|       20|      1|           0|   0|       null|\n",
            "| 14|         1190|   1|        2.2|       1|  5|     0|        19|  0.9|      158|      5| 15|      227|    1856| 992|  13|   0|       16|      1|           1|   0|       null|\n",
            "| 15|          630|   0|        1.8|       0|  8|     1|        51|  0.9|      193|      8|  9|     1315|    1323|2751|  17|   6|        3|      1|           1|   0|       null|\n",
            "| 16|         1846|   1|        1.0|       0|  5|     1|        53|  0.7|      106|      8|  7|      185|    1832| 563|   9|   5|       10|      1|           0|   1|       null|\n",
            "| 17|         1985|   0|        0.5|       1| 14|     1|        26|  1.0|      163|      2| 17|      613|    1511|2083|  13|   3|       14|      1|           1|   0|       null|\n",
            "| 18|         1042|   0|        2.9|       0|  5|     1|        48|  0.2|      186|      4| 15|      335|     532|2187|   9|   2|        5|      1|           0|   0|       null|\n",
            "| 19|         1231|   1|        1.7|       1|  2|     1|        37|  0.2|      194|      2|  3|       82|    1771|3902|  19|  12|       15|      1|           0|   1|       null|\n",
            "| 20|         1488|   0|        2.6|       0|  9|     0|        37|  0.7|      189|      4| 20|       47|     559|2524|   5|   0|        6|      0|           0|   0|       null|\n",
            "+---+-------------+----+-----------+--------+---+------+----------+-----+---------+-------+---+---------+--------+----+----+----+---------+-------+------------+----+-----------+\n",
            "only showing top 20 rows\n",
            "\n"
          ]
        }
      ]
    },
    {
      "cell_type": "markdown",
      "metadata": {
        "id": "GxGGHqRyx7XG"
      },
      "source": [
        "## Рассчитайте соотношение сторон телефона и экрана"
      ]
    },
    {
      "cell_type": "code",
      "metadata": {
        "id": "yZgL4q1gyrRm"
      },
      "source": [
        "# Выведите отсортированное распределение плотности пикселей (1 балла)\n",
        "# в пикселях на дюйм\n",
        "###############\n",
        "# Ваш код здесь\n",
        "\n",
        "#Добавим колонку диагональ в дюймах\n",
        "from pyspark.sql.functions import sqrt, desc\n",
        "\n",
        "#data.withColumn(\"diag_d\", sqrt(data['sc_h']**2 + data['sc_w']**2)).show()\n",
        "#data.withColumn(\"diag_px\", sqrt(data['px_height']**2 + data['px_width']**2)).show()\n",
        "data2 = data.withColumn(\"PPX\", (sqrt(data['px_height']**2 + data['px_width']**2))/(sqrt(data['sc_h']**2 + data['sc_w']**2)/2.54)).sort(desc(\"PPX\"))"
      ],
      "execution_count": 78,
      "outputs": []
    },
    {
      "cell_type": "markdown",
      "metadata": {
        "id": "PNAGeyOmzEN4"
      },
      "source": [
        "## Сохранение\n"
      ]
    },
    {
      "cell_type": "code",
      "source": [
        "data2.show(20)"
      ],
      "metadata": {
        "colab": {
          "base_uri": "https://localhost:8080/"
        },
        "id": "bqZQigW0fWUx",
        "outputId": "620a7564-2048-448c-d8ef-b590f6b551e3"
      },
      "execution_count": 79,
      "outputs": [
        {
          "output_type": "stream",
          "name": "stdout",
          "text": [
            "+----+-------------+----+-----------+--------+---+------+----------+-----+---------+-------+---+---------+--------+----+----+----+---------+-------+------------+----+-----------+------------------+\n",
            "|  id|battery_power|blue|clock_speed|dual_sim| fc|four_g|int_memory|m_dep|mobile_wt|n_cores| pc|px_height|px_width| ram|sc_h|sc_w|talk_time|three_g|touch_screen|wifi|price_range|               PPX|\n",
            "+----+-------------+----+-----------+--------+---+------+----------+-----+---------+-------+---+---------+--------+----+----+----+---------+-------+------------+----+-----------+------------------+\n",
            "| 460|         1202|   0|        2.5|       1|  3|     0|        22|  0.4|      112|      2|  8|     1900|    1959| 291|   5|   2|        4|      0|           0|   0|       null|1287.1976878368039|\n",
            "|null|         1090|   0|        1.3|       1|  5|     0|        27|  0.1|       91|      4| 16|     1638|    1910|1352|   5|   1|       11|      0|           1|   0|          1| 1253.395520950375|\n",
            "|null|         1778|   0|        0.5|       0|  0|     0|        15|  0.5|      102|      3|  0|     1445|    1954|1214|   5|   0|       14|      1|           0|   0|          1|1234.5697108806776|\n",
            "|null|         1497|   1|        0.7|       0|  5|     0|        32|  0.7|       92|      3|  9|     1920|    1933|1329|   6|   1|        7|      1|           1|   0|          2| 1137.677941798141|\n",
            "|null|         1358|   0|        2.5|       1|  0|     0|        20|  0.6|      135|      7|  0|     1485|    1655|3406|   5|   1|       11|      0|           0|   1|          3| 1107.636487509119|\n",
            "|null|         1703|   1|        1.5|       1| 17|     1|        55|  0.7|      138|      5| 19|     1411|    1711|2993|   5|   1|       20|      1|           1|   1|          3|1104.7418843540577|\n",
            "|null|         1048|   1|        0.9|       0| 10|     1|        28|  0.8|      194|      2| 19|      966|    1975|1458|   5|   1|       15|      1|           0|   1|          1|1095.1926683254624|\n",
            "| 291|         1650|   1|        0.6|       0|  0|     0|        62|  0.3|       81|      3| 15|     1305|    1918|2596|   5|   2|       10|      0|           0|   0|       null|1094.1993112333093|\n",
            "|null|          648|   1|        0.5|       1|  9|     1|        54|  0.4|      109|      5| 20|     1153|    1817|3124|   5|   0|       13|      1|           0|   0|          3|1093.1916856032158|\n",
            "| 589|         1581|   1|        1.4|       0|  0|     1|        55|  0.6|      138|      2|  1|      890|    1980|3936|   5|   1|        3|      1|           0|   0|       null|1081.3660342363266|\n",
            "|null|         1547|   1|        3.0|       1|  2|     1|        14|  0.7|      198|      3| 19|     1042|    1832|2059|   5|   0|       15|      1|           0|   1|          2|1070.6620340854531|\n",
            "|null|          622|   1|        1.9|       1| 12|     0|        11|  0.8|      193|      8| 14|      760|    1964|3183|   5|   0|        4|      1|           1|   1|          2|1069.8069925664163|\n",
            "|null|         1731|   1|        1.4|       1|  4|     1|         4|  0.5|      163|      6| 18|      809|    1988|3892|   5|   1|        4|      1|           1|   1|          3| 1069.149587468758|\n",
            "|null|          712|   0|        2.5|       1|  1|     0|        49|  0.6|       99|      6|  3|     1131|    1743| 401|   5|   0|       10|      1|           0|   1|          0|1055.5171630248367|\n",
            "| 186|          586|   0|        2.9|       1|  6|     1|        33|  0.2|      195|      8| 17|     1470|    1644|2817|   5|   2|        5|      1|           1|   1|       null|1040.1961687933742|\n",
            "|null|          754|   0|        0.5|       1|  7|     1|        59|  0.7|      178|      7| 10|     1914|    1928|1027|   6|   3|        5|      1|           0|   0|          1|1028.6620212468017|\n",
            "| 138|          723|   0|        0.5|       0|  5|     0|        63|  0.5|      172|      8| 14|      906|    1801| 488|   5|   0|        8|      1|           0|   1|       null|1024.1508043095998|\n",
            "|null|          518|   0|        0.8|       1|  0|     0|         3|  0.1|      178|      7|  1|      437|    1947|2832|   5|   0|        8|      1|           0|   1|          2|1013.6831644019742|\n",
            "|  94|         1965|   1|        0.5|       0|  0|     1|         3|  0.9|      168|      7| 17|     1373|    1949| 305|   6|   0|       20|      1|           0|   0|       null|1009.2509938343165|\n",
            "|null|         1413|   0|        0.6|       0|  0|     1|        13|  0.1|      128|      1|  0|     1323|    1481| 515|   5|   0|       18|      1|           1|   0|          0|1008.8232829192633|\n",
            "+----+-------------+----+-----------+--------+---+------+----------+-----+---------+-------+---+---------+--------+----+----+----+---------+-------+------------+----+-----------+------------------+\n",
            "only showing top 20 rows\n",
            "\n"
          ]
        }
      ]
    },
    {
      "cell_type": "code",
      "metadata": {
        "id": "kRb1q9QizDiH"
      },
      "source": [
        "# Сохраните результат в csv sep=';', encoding='cp1251'\n",
        "# с колонками id, плотность пикселей и общей инфой в формате \"2 ядра 2 гига\"\n",
        "# 2 балла\n",
        "###############\n",
        "# Ваш код здесь\n",
        "data2.coalesce(1).write.option(\"inferSchema\",\"true\").option(\"header\",\"true\").option(\"sep\",\";\").option(\"encoding\",\"cp1251\").mode(\"overwrite\").csv(\"/content/drive/MyDrive/Colab Notebooks/Spark/data2.csv\")"
      ],
      "execution_count": 87,
      "outputs": []
    },
    {
      "cell_type": "code",
      "source": [
        "#проверяем сохраненный файл - все на месте\n",
        "data_data = spark.read.option('header','True').option('inferSchema', 'true').csv('/content/drive/MyDrive/Colab Notebooks/Spark/data2.csv',sep=';')\n",
        "data_data.show(5)"
      ],
      "metadata": {
        "colab": {
          "base_uri": "https://localhost:8080/"
        },
        "id": "GJiNc_sAlmPx",
        "outputId": "a30b2a4e-b410-4519-9468-b68fd2479ede"
      },
      "execution_count": 88,
      "outputs": [
        {
          "output_type": "stream",
          "name": "stdout",
          "text": [
            "+----+-------------+----+-----------+--------+---+------+----------+-----+---------+-------+---+---------+--------+----+----+----+---------+-------+------------+----+-----------+------------------+\n",
            "|  id|battery_power|blue|clock_speed|dual_sim| fc|four_g|int_memory|m_dep|mobile_wt|n_cores| pc|px_height|px_width| ram|sc_h|sc_w|talk_time|three_g|touch_screen|wifi|price_range|               PPX|\n",
            "+----+-------------+----+-----------+--------+---+------+----------+-----+---------+-------+---+---------+--------+----+----+----+---------+-------+------------+----+-----------+------------------+\n",
            "| 460|         1202|   0|        2.5|       1|  3|     0|        22|  0.4|      112|      2|  8|     1900|    1959| 291|   5|   2|        4|      0|           0|   0|       null|1287.1976878368039|\n",
            "|null|         1090|   0|        1.3|       1|  5|     0|        27|  0.1|       91|      4| 16|     1638|    1910|1352|   5|   1|       11|      0|           1|   0|          1| 1253.395520950375|\n",
            "|null|         1778|   0|        0.5|       0|  0|     0|        15|  0.5|      102|      3|  0|     1445|    1954|1214|   5|   0|       14|      1|           0|   0|          1|1234.5697108806776|\n",
            "|null|         1497|   1|        0.7|       0|  5|     0|        32|  0.7|       92|      3|  9|     1920|    1933|1329|   6|   1|        7|      1|           1|   0|          2| 1137.677941798141|\n",
            "|null|         1358|   0|        2.5|       1|  0|     0|        20|  0.6|      135|      7|  0|     1485|    1655|3406|   5|   1|       11|      0|           0|   1|          3| 1107.636487509119|\n",
            "+----+-------------+----+-----------+--------+---+------+----------+-----+---------+-------+---+---------+--------+----+----+----+---------+-------+------------+----+-----------+------------------+\n",
            "only showing top 5 rows\n",
            "\n"
          ]
        }
      ]
    }
  ]
}