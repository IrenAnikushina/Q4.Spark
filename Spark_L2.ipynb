{
  "nbformat": 4,
  "nbformat_minor": 0,
  "metadata": {
    "colab": {
      "name": "Spark_L2.ipynb",
      "provenance": [],
      "collapsed_sections": []
    },
    "kernelspec": {
      "name": "python3",
      "display_name": "Python 3"
    },
    "language_info": {
      "name": "python"
    }
  },
  "cells": [
    {
      "cell_type": "code",
      "execution_count": 1,
      "metadata": {
        "colab": {
          "base_uri": "https://localhost:8080/"
        },
        "id": "812YXqt2KXWh",
        "outputId": "5d3385c0-0f9f-4f5e-af1c-45bfcbede7bc"
      },
      "outputs": [
        {
          "output_type": "stream",
          "name": "stdout",
          "text": [
            "Collecting pyspark\n",
            "  Downloading pyspark-3.2.0.tar.gz (281.3 MB)\n",
            "\u001b[K     |████████████████████████████████| 281.3 MB 34 kB/s \n",
            "\u001b[?25hCollecting py4j==0.10.9.2\n",
            "  Downloading py4j-0.10.9.2-py2.py3-none-any.whl (198 kB)\n",
            "\u001b[K     |████████████████████████████████| 198 kB 33.8 MB/s \n",
            "\u001b[?25hBuilding wheels for collected packages: pyspark\n",
            "  Building wheel for pyspark (setup.py) ... \u001b[?25l\u001b[?25hdone\n",
            "  Created wheel for pyspark: filename=pyspark-3.2.0-py2.py3-none-any.whl size=281805912 sha256=99bfad56d6ce5e6155205741773fdf650a5808dd550f3f36b8cb7ccc6dfb4725\n",
            "  Stored in directory: /root/.cache/pip/wheels/0b/de/d2/9be5d59d7331c6c2a7c1b6d1a4f463ce107332b1ecd4e80718\n",
            "Successfully built pyspark\n",
            "Installing collected packages: py4j, pyspark\n",
            "Successfully installed py4j-0.10.9.2 pyspark-3.2.0\n"
          ]
        }
      ],
      "source": [
        "!pip install pyspark"
      ]
    },
    {
      "cell_type": "code",
      "source": [
        "import pyspark\n",
        "from pyspark.sql import SparkSession"
      ],
      "metadata": {
        "id": "9Dcq0GTyP_Fa"
      },
      "execution_count": 2,
      "outputs": []
    },
    {
      "cell_type": "markdown",
      "source": [
        "Прочитайте файлы в rdd, проведите их анализ, и расскажите, чем они отлачаются (для оценки отлично достаточно чтения файла и просмотра части его содержимого и сравнения названия колонок).\n",
        "\n",
        "В файлах содержится следующая информация:\n",
        "*   id: ID\n",
        "*   battery_power: Total energy a battery can store in one time (mAh)\n",
        "*   blue: Support bluetooth or not\n",
        "*   clock_speed: Speed at which microprocessor executes instructions\n",
        "*   dual_sim: Support dual sim or not\n",
        "*   fc: Front Camera mega pixels\n",
        "*   four_g: Support 4G or not\n",
        "*   int_memory: Internal Memory (GB)\n",
        "*   m_dep: Mobile Depth (cm)\n",
        "*   mobile_wt: Weight of mobile phone\n",
        "*   n_cores: Number of cores of processor\n",
        "*   pc: Primary Camera mega pixels\n",
        "*   px_height: Pixel Resolution Height\n",
        "*   px_width: Pixel Resolution Width\n",
        "*   ram: Random Access Memory (MB)\n",
        "*   sc_h: Screen Height of mobile (cm)\n",
        "*   sc_w: Screen Width of mobile (cm)\n",
        "*   talk_time: Time that a single battery charge will last\n",
        "*   three_g: Support 3G or not\n",
        "*   touch_screen: Has touch screen or not\n",
        "*   wifi: Support wifi or not"
      ],
      "metadata": {
        "id": "5jBJaGMZJwep"
      }
    },
    {
      "cell_type": "code",
      "source": [
        "spark = SparkSession.builder\\\n",
        "        .master('local[4]')\\\n",
        "        .appName('Lesson_2')\\\n",
        "        .config('spark.executor.instances', 4)\\\n",
        "        .config('spark.executor.memory', f'{int(3000/1.1)}mb')\\\n",
        "        .config('spark.executor.cores', 1)\\\n",
        "        .getOrCreate()\n",
        "\n",
        "sc = spark.sparkContext\n",
        "\n",
        "data_test = sc.textFile('/content/drive/MyDrive/Colab Notebooks/Spark/test.csv')\n",
        "print(data_test.take(3))\n"
      ],
      "metadata": {
        "id": "JGGyG_UuQLrn",
        "colab": {
          "base_uri": "https://localhost:8080/"
        },
        "outputId": "a45985ae-9448-408c-c884-713f7f7c6bee"
      },
      "execution_count": 3,
      "outputs": [
        {
          "output_type": "stream",
          "name": "stdout",
          "text": [
            "['id,battery_power,blue,clock_speed,dual_sim,fc,four_g,int_memory,m_dep,mobile_wt,n_cores,pc,px_height,px_width,ram,sc_h,sc_w,talk_time,three_g,touch_screen,wifi', '1,1043,1,1.8,1,14,0,5,0.1,193,3,16,226,1412,3476,12,7,2,0,1,0', '2,841,1,0.5,1,4,1,61,0.8,191,5,12,746,857,3895,6,0,7,1,0,0']\n"
          ]
        }
      ]
    },
    {
      "cell_type": "markdown",
      "source": [
        ""
      ],
      "metadata": {
        "id": "ntvD_Ow3JuUQ"
      }
    },
    {
      "cell_type": "code",
      "source": [
        "data_train = sc.textFile('/content/drive/MyDrive/Colab Notebooks/Spark/train.csv')\n",
        "print(data_train.take(3))"
      ],
      "metadata": {
        "colab": {
          "base_uri": "https://localhost:8080/"
        },
        "id": "4SWe_3SKIrxz",
        "outputId": "2842f240-69e0-424c-b728-ef2f2d598488"
      },
      "execution_count": 4,
      "outputs": [
        {
          "output_type": "stream",
          "name": "stdout",
          "text": [
            "['battery_power,blue,clock_speed,dual_sim,fc,four_g,int_memory,m_dep,mobile_wt,n_cores,pc,px_height,px_width,ram,sc_h,sc_w,talk_time,three_g,touch_screen,wifi,price_range', '842,0,2.2,0,1,0,7,0.6,188,2,2,20,756,2549,9,7,19,0,0,1,1', '1021,1,0.5,1,0,1,53,0.7,136,3,6,905,1988,2631,17,3,7,1,1,0,2']\n"
          ]
        }
      ]
    },
    {
      "cell_type": "code",
      "source": [
        "a = data_test.take(1)\n",
        "b = data_train.take(1)"
      ],
      "metadata": {
        "id": "GW5eWzWzLzjF"
      },
      "execution_count": 5,
      "outputs": []
    },
    {
      "cell_type": "code",
      "source": [
        "print(a)\n",
        "print(b)"
      ],
      "metadata": {
        "colab": {
          "base_uri": "https://localhost:8080/"
        },
        "id": "UbEZkhzpL_Jx",
        "outputId": "a55992aa-ae83-4864-96f2-03c345a1def0"
      },
      "execution_count": 6,
      "outputs": [
        {
          "output_type": "stream",
          "name": "stdout",
          "text": [
            "['id,battery_power,blue,clock_speed,dual_sim,fc,four_g,int_memory,m_dep,mobile_wt,n_cores,pc,px_height,px_width,ram,sc_h,sc_w,talk_time,three_g,touch_screen,wifi']\n",
            "['battery_power,blue,clock_speed,dual_sim,fc,four_g,int_memory,m_dep,mobile_wt,n_cores,pc,px_height,px_width,ram,sc_h,sc_w,talk_time,three_g,touch_screen,wifi,price_range']\n"
          ]
        }
      ]
    },
    {
      "cell_type": "code",
      "source": [
        "a_split = sorted(map(lambda x: x.split(','), a))[0]\n",
        "b_split = sorted(map(lambda x: x.split(','), b))[0]\n",
        "print (a_split)\n",
        "print (b_split)"
      ],
      "metadata": {
        "colab": {
          "base_uri": "https://localhost:8080/"
        },
        "id": "1V50gFGDKU41",
        "outputId": "813bfc8f-2b11-481f-aaa6-2ecd68dd134b"
      },
      "execution_count": 12,
      "outputs": [
        {
          "output_type": "stream",
          "name": "stdout",
          "text": [
            "['id', 'battery_power', 'blue', 'clock_speed', 'dual_sim', 'fc', 'four_g', 'int_memory', 'm_dep', 'mobile_wt', 'n_cores', 'pc', 'px_height', 'px_width', 'ram', 'sc_h', 'sc_w', 'talk_time', 'three_g', 'touch_screen', 'wifi']\n",
            "['battery_power', 'blue', 'clock_speed', 'dual_sim', 'fc', 'four_g', 'int_memory', 'm_dep', 'mobile_wt', 'n_cores', 'pc', 'px_height', 'px_width', 'ram', 'sc_h', 'sc_w', 'talk_time', 'three_g', 'touch_screen', 'wifi', 'price_range']\n"
          ]
        }
      ]
    },
    {
      "cell_type": "code",
      "source": [
        "from functools import reduce"
      ],
      "metadata": {
        "id": "5_qvdlHzNI1J"
      },
      "execution_count": 16,
      "outputs": []
    },
    {
      "cell_type": "code",
      "source": [
        "if reduce(lambda x, y : x and y, map(lambda p, q: p == q,a_split,b_split), True): \n",
        "  print (\"The lists l1 and l2 are the same\") \n",
        "else: \n",
        "  print (\"The lists l1 and l2 are not the same\")"
      ],
      "metadata": {
        "colab": {
          "base_uri": "https://localhost:8080/"
        },
        "id": "Jjhld20aM07Q",
        "outputId": "1495d32d-284c-444e-f646-971d5467b448"
      },
      "execution_count": 17,
      "outputs": [
        {
          "output_type": "stream",
          "name": "stdout",
          "text": [
            "The lists l1 and l2 are not the same\n"
          ]
        }
      ]
    },
    {
      "cell_type": "code",
      "source": [
        "set(a_split).symmetric_difference(set(b_split))"
      ],
      "metadata": {
        "colab": {
          "base_uri": "https://localhost:8080/"
        },
        "id": "W4k30XYIS9xJ",
        "outputId": "9a927e3f-49a9-4adf-8cac-1bf3548f3aa6"
      },
      "execution_count": 19,
      "outputs": [
        {
          "output_type": "execute_result",
          "data": {
            "text/plain": [
              "{'id', 'price_range'}"
            ]
          },
          "metadata": {},
          "execution_count": 19
        }
      ]
    }
  ]
}